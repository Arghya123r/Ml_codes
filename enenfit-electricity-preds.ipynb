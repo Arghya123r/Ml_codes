{
 "cells": [
  {
   "cell_type": "code",
   "execution_count": 1,
   "id": "31dbe278",
   "metadata": {
    "_cell_guid": "b1076dfc-b9ad-4769-8c92-a6c4dae69d19",
    "_uuid": "8f2839f25d086af736a60e9eeb907d3b93b6e0e5",
    "execution": {
     "iopub.execute_input": "2023-11-25T04:19:12.604634Z",
     "iopub.status.busy": "2023-11-25T04:19:12.604263Z",
     "iopub.status.idle": "2023-11-25T04:19:12.984582Z",
     "shell.execute_reply": "2023-11-25T04:19:12.983333Z"
    },
    "papermill": {
     "duration": 0.389851,
     "end_time": "2023-11-25T04:19:12.987513",
     "exception": false,
     "start_time": "2023-11-25T04:19:12.597662",
     "status": "completed"
    },
    "tags": []
   },
   "outputs": [],
   "source": [
    "# This Python 3 environment comes with many helpful analytics libraries installed\n",
    "# It is defined by the kaggle/python Docker image: https://github.com/kaggle/docker-python\n",
    "# For example, here's several helpful packages to load\n",
    "\n",
    "import numpy as np # linear algebra\n",
    "import pandas as pd # data processing, CSV file I/O (e.g. pd.read_csv)"
   ]
  },
  {
   "cell_type": "code",
   "execution_count": 2,
   "id": "17873725",
   "metadata": {
    "execution": {
     "iopub.execute_input": "2023-11-25T04:19:13.003537Z",
     "iopub.status.busy": "2023-11-25T04:19:13.002078Z",
     "iopub.status.idle": "2023-11-25T04:19:14.279750Z",
     "shell.execute_reply": "2023-11-25T04:19:14.278562Z"
    },
    "papermill": {
     "duration": 1.287208,
     "end_time": "2023-11-25T04:19:14.282681",
     "exception": false,
     "start_time": "2023-11-25T04:19:12.995473",
     "status": "completed"
    },
    "tags": []
   },
   "outputs": [],
   "source": [
    "import matplotlib.pyplot as plt\n",
    "import seaborn as sns\n",
    "%matplotlib inline"
   ]
  },
  {
   "cell_type": "code",
   "execution_count": 3,
   "id": "ad101a5f",
   "metadata": {
    "execution": {
     "iopub.execute_input": "2023-11-25T04:19:14.294614Z",
     "iopub.status.busy": "2023-11-25T04:19:14.293521Z",
     "iopub.status.idle": "2023-11-25T04:19:39.723203Z",
     "shell.execute_reply": "2023-11-25T04:19:39.722164Z"
    },
    "papermill": {
     "duration": 25.438266,
     "end_time": "2023-11-25T04:19:39.725699",
     "exception": false,
     "start_time": "2023-11-25T04:19:14.287433",
     "status": "completed"
    },
    "tags": []
   },
   "outputs": [],
   "source": [
    "df=pd.read_csv(\"/kaggle/input/predict-energy-behavior-of-prosumers/train.csv\",parse_dates=['datetime'])\n",
    "e_prices=pd.read_csv(\"/kaggle/input/predict-energy-behavior-of-prosumers/electricity_prices.csv\",parse_dates=['forecast_date','origin_date'])\n",
    "g_prices=pd.read_csv(\"/kaggle/input/predict-energy-behavior-of-prosumers/gas_prices.csv\",parse_dates=['forecast_date','origin_date'])\n",
    "forecast=pd.read_csv(\"/kaggle/input/predict-energy-behavior-of-prosumers/forecast_weather.csv\")\n",
    "hist_weath=pd.read_csv(\"/kaggle/input/predict-energy-behavior-of-prosumers/historical_weather.csv\")"
   ]
  },
  {
   "cell_type": "code",
   "execution_count": 4,
   "id": "881bf982",
   "metadata": {
    "execution": {
     "iopub.execute_input": "2023-11-25T04:19:39.736859Z",
     "iopub.status.busy": "2023-11-25T04:19:39.736482Z",
     "iopub.status.idle": "2023-11-25T04:19:39.756229Z",
     "shell.execute_reply": "2023-11-25T04:19:39.755056Z"
    },
    "papermill": {
     "duration": 0.027923,
     "end_time": "2023-11-25T04:19:39.758472",
     "exception": false,
     "start_time": "2023-11-25T04:19:39.730549",
     "status": "completed"
    },
    "tags": []
   },
   "outputs": [
    {
     "data": {
      "text/html": [
       "<div>\n",
       "<style scoped>\n",
       "    .dataframe tbody tr th:only-of-type {\n",
       "        vertical-align: middle;\n",
       "    }\n",
       "\n",
       "    .dataframe tbody tr th {\n",
       "        vertical-align: top;\n",
       "    }\n",
       "\n",
       "    .dataframe thead th {\n",
       "        text-align: right;\n",
       "    }\n",
       "</style>\n",
       "<table border=\"1\" class=\"dataframe\">\n",
       "  <thead>\n",
       "    <tr style=\"text-align: right;\">\n",
       "      <th></th>\n",
       "      <th>county</th>\n",
       "      <th>is_business</th>\n",
       "      <th>product_type</th>\n",
       "      <th>target</th>\n",
       "      <th>is_consumption</th>\n",
       "      <th>datetime</th>\n",
       "      <th>data_block_id</th>\n",
       "      <th>row_id</th>\n",
       "      <th>prediction_unit_id</th>\n",
       "    </tr>\n",
       "  </thead>\n",
       "  <tbody>\n",
       "    <tr>\n",
       "      <th>0</th>\n",
       "      <td>0</td>\n",
       "      <td>0</td>\n",
       "      <td>1</td>\n",
       "      <td>0.713</td>\n",
       "      <td>0</td>\n",
       "      <td>2021-09-01</td>\n",
       "      <td>0</td>\n",
       "      <td>0</td>\n",
       "      <td>0</td>\n",
       "    </tr>\n",
       "    <tr>\n",
       "      <th>1</th>\n",
       "      <td>0</td>\n",
       "      <td>0</td>\n",
       "      <td>1</td>\n",
       "      <td>96.590</td>\n",
       "      <td>1</td>\n",
       "      <td>2021-09-01</td>\n",
       "      <td>0</td>\n",
       "      <td>1</td>\n",
       "      <td>0</td>\n",
       "    </tr>\n",
       "    <tr>\n",
       "      <th>2</th>\n",
       "      <td>0</td>\n",
       "      <td>0</td>\n",
       "      <td>2</td>\n",
       "      <td>0.000</td>\n",
       "      <td>0</td>\n",
       "      <td>2021-09-01</td>\n",
       "      <td>0</td>\n",
       "      <td>2</td>\n",
       "      <td>1</td>\n",
       "    </tr>\n",
       "    <tr>\n",
       "      <th>3</th>\n",
       "      <td>0</td>\n",
       "      <td>0</td>\n",
       "      <td>2</td>\n",
       "      <td>17.314</td>\n",
       "      <td>1</td>\n",
       "      <td>2021-09-01</td>\n",
       "      <td>0</td>\n",
       "      <td>3</td>\n",
       "      <td>1</td>\n",
       "    </tr>\n",
       "    <tr>\n",
       "      <th>4</th>\n",
       "      <td>0</td>\n",
       "      <td>0</td>\n",
       "      <td>3</td>\n",
       "      <td>2.904</td>\n",
       "      <td>0</td>\n",
       "      <td>2021-09-01</td>\n",
       "      <td>0</td>\n",
       "      <td>4</td>\n",
       "      <td>2</td>\n",
       "    </tr>\n",
       "  </tbody>\n",
       "</table>\n",
       "</div>"
      ],
      "text/plain": [
       "   county  is_business  product_type  target  is_consumption   datetime  \\\n",
       "0       0            0             1   0.713               0 2021-09-01   \n",
       "1       0            0             1  96.590               1 2021-09-01   \n",
       "2       0            0             2   0.000               0 2021-09-01   \n",
       "3       0            0             2  17.314               1 2021-09-01   \n",
       "4       0            0             3   2.904               0 2021-09-01   \n",
       "\n",
       "   data_block_id  row_id  prediction_unit_id  \n",
       "0              0       0                   0  \n",
       "1              0       1                   0  \n",
       "2              0       2                   1  \n",
       "3              0       3                   1  \n",
       "4              0       4                   2  "
      ]
     },
     "execution_count": 4,
     "metadata": {},
     "output_type": "execute_result"
    }
   ],
   "source": [
    "df.head()"
   ]
  },
  {
   "cell_type": "code",
   "execution_count": 5,
   "id": "199e41ae",
   "metadata": {
    "execution": {
     "iopub.execute_input": "2023-11-25T04:19:39.770891Z",
     "iopub.status.busy": "2023-11-25T04:19:39.769785Z",
     "iopub.status.idle": "2023-11-25T04:19:39.788321Z",
     "shell.execute_reply": "2023-11-25T04:19:39.787308Z"
    },
    "papermill": {
     "duration": 0.026869,
     "end_time": "2023-11-25T04:19:39.790454",
     "exception": false,
     "start_time": "2023-11-25T04:19:39.763585",
     "status": "completed"
    },
    "tags": []
   },
   "outputs": [
    {
     "name": "stdout",
     "output_type": "stream",
     "text": [
      "<class 'pandas.core.frame.DataFrame'>\n",
      "RangeIndex: 2018352 entries, 0 to 2018351\n",
      "Data columns (total 9 columns):\n",
      " #   Column              Dtype         \n",
      "---  ------              -----         \n",
      " 0   county              int64         \n",
      " 1   is_business         int64         \n",
      " 2   product_type        int64         \n",
      " 3   target              float64       \n",
      " 4   is_consumption      int64         \n",
      " 5   datetime            datetime64[ns]\n",
      " 6   data_block_id       int64         \n",
      " 7   row_id              int64         \n",
      " 8   prediction_unit_id  int64         \n",
      "dtypes: datetime64[ns](1), float64(1), int64(7)\n",
      "memory usage: 138.6 MB\n"
     ]
    }
   ],
   "source": [
    "df.info()"
   ]
  },
  {
   "cell_type": "code",
   "execution_count": 6,
   "id": "6de11b38",
   "metadata": {
    "execution": {
     "iopub.execute_input": "2023-11-25T04:19:39.802287Z",
     "iopub.status.busy": "2023-11-25T04:19:39.801890Z",
     "iopub.status.idle": "2023-11-25T04:19:39.826864Z",
     "shell.execute_reply": "2023-11-25T04:19:39.825724Z"
    },
    "papermill": {
     "duration": 0.033682,
     "end_time": "2023-11-25T04:19:39.829199",
     "exception": false,
     "start_time": "2023-11-25T04:19:39.795517",
     "status": "completed"
    },
    "tags": []
   },
   "outputs": [
    {
     "data": {
      "text/plain": [
       "county                  0\n",
       "is_business             0\n",
       "product_type            0\n",
       "target                528\n",
       "is_consumption          0\n",
       "datetime                0\n",
       "data_block_id           0\n",
       "row_id                  0\n",
       "prediction_unit_id      0\n",
       "dtype: int64"
      ]
     },
     "execution_count": 6,
     "metadata": {},
     "output_type": "execute_result"
    }
   ],
   "source": [
    "df.isna().sum()\n",
    "#imputation necessary"
   ]
  },
  {
   "cell_type": "code",
   "execution_count": 7,
   "id": "1f091191",
   "metadata": {
    "execution": {
     "iopub.execute_input": "2023-11-25T04:19:39.841096Z",
     "iopub.status.busy": "2023-11-25T04:19:39.840716Z",
     "iopub.status.idle": "2023-11-25T04:19:40.419510Z",
     "shell.execute_reply": "2023-11-25T04:19:40.418423Z"
    },
    "papermill": {
     "duration": 0.587241,
     "end_time": "2023-11-25T04:19:40.421696",
     "exception": false,
     "start_time": "2023-11-25T04:19:39.834455",
     "status": "completed"
    },
    "tags": []
   },
   "outputs": [
    {
     "data": {
      "text/html": [
       "<div>\n",
       "<style scoped>\n",
       "    .dataframe tbody tr th:only-of-type {\n",
       "        vertical-align: middle;\n",
       "    }\n",
       "\n",
       "    .dataframe tbody tr th {\n",
       "        vertical-align: top;\n",
       "    }\n",
       "\n",
       "    .dataframe thead th {\n",
       "        text-align: right;\n",
       "    }\n",
       "</style>\n",
       "<table border=\"1\" class=\"dataframe\">\n",
       "  <thead>\n",
       "    <tr style=\"text-align: right;\">\n",
       "      <th></th>\n",
       "      <th>county</th>\n",
       "      <th>is_business</th>\n",
       "      <th>product_type</th>\n",
       "      <th>target</th>\n",
       "      <th>is_consumption</th>\n",
       "      <th>datetime</th>\n",
       "      <th>data_block_id</th>\n",
       "      <th>row_id</th>\n",
       "      <th>prediction_unit_id</th>\n",
       "    </tr>\n",
       "  </thead>\n",
       "  <tbody>\n",
       "    <tr>\n",
       "      <th>count</th>\n",
       "      <td>2.018352e+06</td>\n",
       "      <td>2.018352e+06</td>\n",
       "      <td>2.018352e+06</td>\n",
       "      <td>2.017824e+06</td>\n",
       "      <td>2018352.0</td>\n",
       "      <td>2018352</td>\n",
       "      <td>2.018352e+06</td>\n",
       "      <td>2.018352e+06</td>\n",
       "      <td>2.018352e+06</td>\n",
       "    </tr>\n",
       "    <tr>\n",
       "      <th>mean</th>\n",
       "      <td>7.297034e+00</td>\n",
       "      <td>5.368261e-01</td>\n",
       "      <td>1.898927e+00</td>\n",
       "      <td>2.748556e+02</td>\n",
       "      <td>0.5</td>\n",
       "      <td>2022-07-20 08:29:25.326166016</td>\n",
       "      <td>3.218746e+02</td>\n",
       "      <td>1.009176e+06</td>\n",
       "      <td>3.304538e+01</td>\n",
       "    </tr>\n",
       "    <tr>\n",
       "      <th>min</th>\n",
       "      <td>0.000000e+00</td>\n",
       "      <td>0.000000e+00</td>\n",
       "      <td>0.000000e+00</td>\n",
       "      <td>0.000000e+00</td>\n",
       "      <td>0.0</td>\n",
       "      <td>2021-09-01 00:00:00</td>\n",
       "      <td>0.000000e+00</td>\n",
       "      <td>0.000000e+00</td>\n",
       "      <td>0.000000e+00</td>\n",
       "    </tr>\n",
       "    <tr>\n",
       "      <th>25%</th>\n",
       "      <td>3.000000e+00</td>\n",
       "      <td>0.000000e+00</td>\n",
       "      <td>1.000000e+00</td>\n",
       "      <td>3.780000e-01</td>\n",
       "      <td>0.0</td>\n",
       "      <td>2022-02-14 04:00:00</td>\n",
       "      <td>1.660000e+02</td>\n",
       "      <td>5.045878e+05</td>\n",
       "      <td>1.600000e+01</td>\n",
       "    </tr>\n",
       "    <tr>\n",
       "      <th>50%</th>\n",
       "      <td>7.000000e+00</td>\n",
       "      <td>1.000000e+00</td>\n",
       "      <td>2.000000e+00</td>\n",
       "      <td>3.113300e+01</td>\n",
       "      <td>0.5</td>\n",
       "      <td>2022-07-21 09:30:00</td>\n",
       "      <td>3.230000e+02</td>\n",
       "      <td>1.009176e+06</td>\n",
       "      <td>3.300000e+01</td>\n",
       "    </tr>\n",
       "    <tr>\n",
       "      <th>75%</th>\n",
       "      <td>1.100000e+01</td>\n",
       "      <td>1.000000e+00</td>\n",
       "      <td>3.000000e+00</td>\n",
       "      <td>1.802062e+02</td>\n",
       "      <td>1.0</td>\n",
       "      <td>2022-12-24 14:00:00</td>\n",
       "      <td>4.790000e+02</td>\n",
       "      <td>1.513763e+06</td>\n",
       "      <td>5.000000e+01</td>\n",
       "    </tr>\n",
       "    <tr>\n",
       "      <th>max</th>\n",
       "      <td>1.500000e+01</td>\n",
       "      <td>1.000000e+00</td>\n",
       "      <td>3.000000e+00</td>\n",
       "      <td>1.548027e+04</td>\n",
       "      <td>1.0</td>\n",
       "      <td>2023-05-31 23:00:00</td>\n",
       "      <td>6.370000e+02</td>\n",
       "      <td>2.018351e+06</td>\n",
       "      <td>6.800000e+01</td>\n",
       "    </tr>\n",
       "    <tr>\n",
       "      <th>std</th>\n",
       "      <td>4.780990e+00</td>\n",
       "      <td>4.986421e-01</td>\n",
       "      <td>1.081766e+00</td>\n",
       "      <td>9.095024e+02</td>\n",
       "      <td>0.5</td>\n",
       "      <td>NaN</td>\n",
       "      <td>1.826343e+02</td>\n",
       "      <td>5.826482e+05</td>\n",
       "      <td>1.959059e+01</td>\n",
       "    </tr>\n",
       "  </tbody>\n",
       "</table>\n",
       "</div>"
      ],
      "text/plain": [
       "             county   is_business  product_type        target  is_consumption  \\\n",
       "count  2.018352e+06  2.018352e+06  2.018352e+06  2.017824e+06       2018352.0   \n",
       "mean   7.297034e+00  5.368261e-01  1.898927e+00  2.748556e+02             0.5   \n",
       "min    0.000000e+00  0.000000e+00  0.000000e+00  0.000000e+00             0.0   \n",
       "25%    3.000000e+00  0.000000e+00  1.000000e+00  3.780000e-01             0.0   \n",
       "50%    7.000000e+00  1.000000e+00  2.000000e+00  3.113300e+01             0.5   \n",
       "75%    1.100000e+01  1.000000e+00  3.000000e+00  1.802062e+02             1.0   \n",
       "max    1.500000e+01  1.000000e+00  3.000000e+00  1.548027e+04             1.0   \n",
       "std    4.780990e+00  4.986421e-01  1.081766e+00  9.095024e+02             0.5   \n",
       "\n",
       "                            datetime  data_block_id        row_id  \\\n",
       "count                        2018352   2.018352e+06  2.018352e+06   \n",
       "mean   2022-07-20 08:29:25.326166016   3.218746e+02  1.009176e+06   \n",
       "min              2021-09-01 00:00:00   0.000000e+00  0.000000e+00   \n",
       "25%              2022-02-14 04:00:00   1.660000e+02  5.045878e+05   \n",
       "50%              2022-07-21 09:30:00   3.230000e+02  1.009176e+06   \n",
       "75%              2022-12-24 14:00:00   4.790000e+02  1.513763e+06   \n",
       "max              2023-05-31 23:00:00   6.370000e+02  2.018351e+06   \n",
       "std                              NaN   1.826343e+02  5.826482e+05   \n",
       "\n",
       "       prediction_unit_id  \n",
       "count        2.018352e+06  \n",
       "mean         3.304538e+01  \n",
       "min          0.000000e+00  \n",
       "25%          1.600000e+01  \n",
       "50%          3.300000e+01  \n",
       "75%          5.000000e+01  \n",
       "max          6.800000e+01  \n",
       "std          1.959059e+01  "
      ]
     },
     "execution_count": 7,
     "metadata": {},
     "output_type": "execute_result"
    }
   ],
   "source": [
    "df.describe()"
   ]
  },
  {
   "cell_type": "code",
   "execution_count": 8,
   "id": "457d92f6",
   "metadata": {
    "execution": {
     "iopub.execute_input": "2023-11-25T04:19:40.434604Z",
     "iopub.status.busy": "2023-11-25T04:19:40.433634Z",
     "iopub.status.idle": "2023-11-25T04:19:40.445265Z",
     "shell.execute_reply": "2023-11-25T04:19:40.444141Z"
    },
    "papermill": {
     "duration": 0.020283,
     "end_time": "2023-11-25T04:19:40.447365",
     "exception": false,
     "start_time": "2023-11-25T04:19:40.427082",
     "status": "completed"
    },
    "tags": []
   },
   "outputs": [
    {
     "name": "stdout",
     "output_type": "stream",
     "text": [
      "<class 'pandas.core.frame.DataFrame'>\n",
      "RangeIndex: 3424512 entries, 0 to 3424511\n",
      "Data columns (total 18 columns):\n",
      " #   Column                             Dtype  \n",
      "---  ------                             -----  \n",
      " 0   latitude                           float64\n",
      " 1   longitude                          float64\n",
      " 2   origin_datetime                    object \n",
      " 3   hours_ahead                        int64  \n",
      " 4   temperature                        float64\n",
      " 5   dewpoint                           float64\n",
      " 6   cloudcover_high                    float64\n",
      " 7   cloudcover_low                     float64\n",
      " 8   cloudcover_mid                     float64\n",
      " 9   cloudcover_total                   float64\n",
      " 10  10_metre_u_wind_component          float64\n",
      " 11  10_metre_v_wind_component          float64\n",
      " 12  data_block_id                      int64  \n",
      " 13  forecast_datetime                  object \n",
      " 14  direct_solar_radiation             float64\n",
      " 15  surface_solar_radiation_downwards  float64\n",
      " 16  snowfall                           float64\n",
      " 17  total_precipitation                float64\n",
      "dtypes: float64(14), int64(2), object(2)\n",
      "memory usage: 470.3+ MB\n"
     ]
    }
   ],
   "source": [
    "forecast.info()"
   ]
  },
  {
   "cell_type": "code",
   "execution_count": 9,
   "id": "661fcf15",
   "metadata": {
    "execution": {
     "iopub.execute_input": "2023-11-25T04:19:40.460126Z",
     "iopub.status.busy": "2023-11-25T04:19:40.459402Z",
     "iopub.status.idle": "2023-11-25T04:19:40.481416Z",
     "shell.execute_reply": "2023-11-25T04:19:40.480505Z"
    },
    "papermill": {
     "duration": 0.030721,
     "end_time": "2023-11-25T04:19:40.483512",
     "exception": false,
     "start_time": "2023-11-25T04:19:40.452791",
     "status": "completed"
    },
    "tags": []
   },
   "outputs": [
    {
     "data": {
      "text/html": [
       "<div>\n",
       "<style scoped>\n",
       "    .dataframe tbody tr th:only-of-type {\n",
       "        vertical-align: middle;\n",
       "    }\n",
       "\n",
       "    .dataframe tbody tr th {\n",
       "        vertical-align: top;\n",
       "    }\n",
       "\n",
       "    .dataframe thead th {\n",
       "        text-align: right;\n",
       "    }\n",
       "</style>\n",
       "<table border=\"1\" class=\"dataframe\">\n",
       "  <thead>\n",
       "    <tr style=\"text-align: right;\">\n",
       "      <th></th>\n",
       "      <th>latitude</th>\n",
       "      <th>longitude</th>\n",
       "      <th>origin_datetime</th>\n",
       "      <th>hours_ahead</th>\n",
       "      <th>temperature</th>\n",
       "      <th>dewpoint</th>\n",
       "      <th>cloudcover_high</th>\n",
       "      <th>cloudcover_low</th>\n",
       "      <th>cloudcover_mid</th>\n",
       "      <th>cloudcover_total</th>\n",
       "      <th>10_metre_u_wind_component</th>\n",
       "      <th>10_metre_v_wind_component</th>\n",
       "      <th>data_block_id</th>\n",
       "      <th>forecast_datetime</th>\n",
       "      <th>direct_solar_radiation</th>\n",
       "      <th>surface_solar_radiation_downwards</th>\n",
       "      <th>snowfall</th>\n",
       "      <th>total_precipitation</th>\n",
       "    </tr>\n",
       "  </thead>\n",
       "  <tbody>\n",
       "    <tr>\n",
       "      <th>0</th>\n",
       "      <td>57.6</td>\n",
       "      <td>21.7</td>\n",
       "      <td>2021-09-01 00:00:00+00:00</td>\n",
       "      <td>1</td>\n",
       "      <td>15.655786</td>\n",
       "      <td>11.553613</td>\n",
       "      <td>0.904816</td>\n",
       "      <td>0.019714</td>\n",
       "      <td>0.000000</td>\n",
       "      <td>0.905899</td>\n",
       "      <td>-0.411328</td>\n",
       "      <td>-9.106137</td>\n",
       "      <td>1</td>\n",
       "      <td>2021-09-01 01:00:00+00:00</td>\n",
       "      <td>0.0</td>\n",
       "      <td>0.0</td>\n",
       "      <td>0.0</td>\n",
       "      <td>0.0</td>\n",
       "    </tr>\n",
       "    <tr>\n",
       "      <th>1</th>\n",
       "      <td>57.6</td>\n",
       "      <td>22.2</td>\n",
       "      <td>2021-09-01 00:00:00+00:00</td>\n",
       "      <td>1</td>\n",
       "      <td>13.003931</td>\n",
       "      <td>10.689844</td>\n",
       "      <td>0.886322</td>\n",
       "      <td>0.004456</td>\n",
       "      <td>0.000000</td>\n",
       "      <td>0.886658</td>\n",
       "      <td>0.206347</td>\n",
       "      <td>-5.355405</td>\n",
       "      <td>1</td>\n",
       "      <td>2021-09-01 01:00:00+00:00</td>\n",
       "      <td>0.0</td>\n",
       "      <td>0.0</td>\n",
       "      <td>0.0</td>\n",
       "      <td>0.0</td>\n",
       "    </tr>\n",
       "    <tr>\n",
       "      <th>2</th>\n",
       "      <td>57.6</td>\n",
       "      <td>22.7</td>\n",
       "      <td>2021-09-01 00:00:00+00:00</td>\n",
       "      <td>1</td>\n",
       "      <td>14.206567</td>\n",
       "      <td>11.671777</td>\n",
       "      <td>0.729034</td>\n",
       "      <td>0.005615</td>\n",
       "      <td>0.000000</td>\n",
       "      <td>0.730499</td>\n",
       "      <td>1.451587</td>\n",
       "      <td>-7.417905</td>\n",
       "      <td>1</td>\n",
       "      <td>2021-09-01 01:00:00+00:00</td>\n",
       "      <td>0.0</td>\n",
       "      <td>0.0</td>\n",
       "      <td>0.0</td>\n",
       "      <td>0.0</td>\n",
       "    </tr>\n",
       "    <tr>\n",
       "      <th>3</th>\n",
       "      <td>57.6</td>\n",
       "      <td>23.2</td>\n",
       "      <td>2021-09-01 00:00:00+00:00</td>\n",
       "      <td>1</td>\n",
       "      <td>14.844507</td>\n",
       "      <td>12.264917</td>\n",
       "      <td>0.336304</td>\n",
       "      <td>0.074341</td>\n",
       "      <td>0.000626</td>\n",
       "      <td>0.385468</td>\n",
       "      <td>1.090869</td>\n",
       "      <td>-9.163999</td>\n",
       "      <td>1</td>\n",
       "      <td>2021-09-01 01:00:00+00:00</td>\n",
       "      <td>0.0</td>\n",
       "      <td>0.0</td>\n",
       "      <td>0.0</td>\n",
       "      <td>0.0</td>\n",
       "    </tr>\n",
       "    <tr>\n",
       "      <th>4</th>\n",
       "      <td>57.6</td>\n",
       "      <td>23.7</td>\n",
       "      <td>2021-09-01 00:00:00+00:00</td>\n",
       "      <td>1</td>\n",
       "      <td>15.293848</td>\n",
       "      <td>12.458887</td>\n",
       "      <td>0.102875</td>\n",
       "      <td>0.088074</td>\n",
       "      <td>0.000015</td>\n",
       "      <td>0.176590</td>\n",
       "      <td>1.268481</td>\n",
       "      <td>-8.975766</td>\n",
       "      <td>1</td>\n",
       "      <td>2021-09-01 01:00:00+00:00</td>\n",
       "      <td>0.0</td>\n",
       "      <td>0.0</td>\n",
       "      <td>0.0</td>\n",
       "      <td>0.0</td>\n",
       "    </tr>\n",
       "  </tbody>\n",
       "</table>\n",
       "</div>"
      ],
      "text/plain": [
       "   latitude  longitude            origin_datetime  hours_ahead  temperature  \\\n",
       "0      57.6       21.7  2021-09-01 00:00:00+00:00            1    15.655786   \n",
       "1      57.6       22.2  2021-09-01 00:00:00+00:00            1    13.003931   \n",
       "2      57.6       22.7  2021-09-01 00:00:00+00:00            1    14.206567   \n",
       "3      57.6       23.2  2021-09-01 00:00:00+00:00            1    14.844507   \n",
       "4      57.6       23.7  2021-09-01 00:00:00+00:00            1    15.293848   \n",
       "\n",
       "    dewpoint  cloudcover_high  cloudcover_low  cloudcover_mid  \\\n",
       "0  11.553613         0.904816        0.019714        0.000000   \n",
       "1  10.689844         0.886322        0.004456        0.000000   \n",
       "2  11.671777         0.729034        0.005615        0.000000   \n",
       "3  12.264917         0.336304        0.074341        0.000626   \n",
       "4  12.458887         0.102875        0.088074        0.000015   \n",
       "\n",
       "   cloudcover_total  10_metre_u_wind_component  10_metre_v_wind_component  \\\n",
       "0          0.905899                  -0.411328                  -9.106137   \n",
       "1          0.886658                   0.206347                  -5.355405   \n",
       "2          0.730499                   1.451587                  -7.417905   \n",
       "3          0.385468                   1.090869                  -9.163999   \n",
       "4          0.176590                   1.268481                  -8.975766   \n",
       "\n",
       "   data_block_id          forecast_datetime  direct_solar_radiation  \\\n",
       "0              1  2021-09-01 01:00:00+00:00                     0.0   \n",
       "1              1  2021-09-01 01:00:00+00:00                     0.0   \n",
       "2              1  2021-09-01 01:00:00+00:00                     0.0   \n",
       "3              1  2021-09-01 01:00:00+00:00                     0.0   \n",
       "4              1  2021-09-01 01:00:00+00:00                     0.0   \n",
       "\n",
       "   surface_solar_radiation_downwards  snowfall  total_precipitation  \n",
       "0                                0.0       0.0                  0.0  \n",
       "1                                0.0       0.0                  0.0  \n",
       "2                                0.0       0.0                  0.0  \n",
       "3                                0.0       0.0                  0.0  \n",
       "4                                0.0       0.0                  0.0  "
      ]
     },
     "execution_count": 9,
     "metadata": {},
     "output_type": "execute_result"
    }
   ],
   "source": [
    "forecast.head()"
   ]
  },
  {
   "cell_type": "code",
   "execution_count": 10,
   "id": "5a8eae6c",
   "metadata": {
    "execution": {
     "iopub.execute_input": "2023-11-25T04:19:40.498927Z",
     "iopub.status.busy": "2023-11-25T04:19:40.498268Z",
     "iopub.status.idle": "2023-11-25T04:19:41.630915Z",
     "shell.execute_reply": "2023-11-25T04:19:41.629705Z"
    },
    "papermill": {
     "duration": 1.142374,
     "end_time": "2023-11-25T04:19:41.633450",
     "exception": false,
     "start_time": "2023-11-25T04:19:40.491076",
     "status": "completed"
    },
    "tags": []
   },
   "outputs": [
    {
     "data": {
      "text/plain": [
       "<Axes: xlabel='target', ylabel='Count'>"
      ]
     },
     "execution_count": 10,
     "metadata": {},
     "output_type": "execute_result"
    },
    {
     "data": {
      "image/png": "[encoded data removed]",
      "text/plain": [
       "<Figure size 640x480 with 1 Axes>"
      ]
     },
     "metadata": {},
     "output_type": "display_data"
    }
   ],
   "source": [
    "sns.histplot(data=df,x='target',bins=5)"
   ]
  },
  {
   "cell_type": "code",
   "execution_count": 11,
   "id": "ea06366e",
   "metadata": {
    "execution": {
     "iopub.execute_input": "2023-11-25T04:19:41.647911Z",
     "iopub.status.busy": "2023-11-25T04:19:41.647522Z",
     "iopub.status.idle": "2023-11-25T04:19:43.172444Z",
     "shell.execute_reply": "2023-11-25T04:19:43.171429Z"
    },
    "papermill": {
     "duration": 1.534605,
     "end_time": "2023-11-25T04:19:43.174560",
     "exception": false,
     "start_time": "2023-11-25T04:19:41.639955",
     "status": "completed"
    },
    "tags": []
   },
   "outputs": [
    {
     "data": {
      "text/plain": [
       "<Axes: xlabel='target', ylabel='Count'>"
      ]
     },
     "execution_count": 11,
     "metadata": {},
     "output_type": "execute_result"
    },
    {
     "data": {
      "image/png": "[encoded data removed]",
      "text/plain": [
       "<Figure size 640x480 with 1 Axes>"
      ]
     },
     "metadata": {},
     "output_type": "display_data"
    }
   ],
   "source": [
    "sns.histplot(data=df,x='target',bins=5,hue='is_consumption')"
   ]
  },
  {
   "cell_type": "code",
   "execution_count": 12,
   "id": "48655415",
   "metadata": {
    "execution": {
     "iopub.execute_input": "2023-11-25T04:19:43.190169Z",
     "iopub.status.busy": "2023-11-25T04:19:43.189759Z",
     "iopub.status.idle": "2023-11-25T04:19:44.223259Z",
     "shell.execute_reply": "2023-11-25T04:19:44.222157Z"
    },
    "papermill": {
     "duration": 1.044149,
     "end_time": "2023-11-25T04:19:44.225667",
     "exception": false,
     "start_time": "2023-11-25T04:19:43.181518",
     "status": "completed"
    },
    "tags": []
   },
   "outputs": [],
   "source": [
    "df['datetime_panda']=pd.to_datetime(df['datetime'])\n",
    "df['year']=df['datetime_panda'].dt.year\n",
    "df['month']=df['datetime_panda'].dt.month\n",
    "df['date']=df['datetime_panda'].dt.date\n"
   ]
  },
  {
   "cell_type": "code",
   "execution_count": 13,
   "id": "b99790b1",
   "metadata": {
    "execution": {
     "iopub.execute_input": "2023-11-25T04:19:44.241697Z",
     "iopub.status.busy": "2023-11-25T04:19:44.241318Z",
     "iopub.status.idle": "2023-11-25T04:19:44.258165Z",
     "shell.execute_reply": "2023-11-25T04:19:44.256922Z"
    },
    "papermill": {
     "duration": 0.02729,
     "end_time": "2023-11-25T04:19:44.260351",
     "exception": false,
     "start_time": "2023-11-25T04:19:44.233061",
     "status": "completed"
    },
    "tags": []
   },
   "outputs": [
    {
     "data": {
      "text/html": [
       "<div>\n",
       "<style scoped>\n",
       "    .dataframe tbody tr th:only-of-type {\n",
       "        vertical-align: middle;\n",
       "    }\n",
       "\n",
       "    .dataframe tbody tr th {\n",
       "        vertical-align: top;\n",
       "    }\n",
       "\n",
       "    .dataframe thead th {\n",
       "        text-align: right;\n",
       "    }\n",
       "</style>\n",
       "<table border=\"1\" class=\"dataframe\">\n",
       "  <thead>\n",
       "    <tr style=\"text-align: right;\">\n",
       "      <th></th>\n",
       "      <th>county</th>\n",
       "      <th>is_business</th>\n",
       "      <th>product_type</th>\n",
       "      <th>target</th>\n",
       "      <th>is_consumption</th>\n",
       "      <th>datetime</th>\n",
       "      <th>data_block_id</th>\n",
       "      <th>row_id</th>\n",
       "      <th>prediction_unit_id</th>\n",
       "      <th>datetime_panda</th>\n",
       "      <th>year</th>\n",
       "      <th>month</th>\n",
       "      <th>date</th>\n",
       "    </tr>\n",
       "  </thead>\n",
       "  <tbody>\n",
       "    <tr>\n",
       "      <th>0</th>\n",
       "      <td>0</td>\n",
       "      <td>0</td>\n",
       "      <td>1</td>\n",
       "      <td>0.713</td>\n",
       "      <td>0</td>\n",
       "      <td>2021-09-01</td>\n",
       "      <td>0</td>\n",
       "      <td>0</td>\n",
       "      <td>0</td>\n",
       "      <td>2021-09-01</td>\n",
       "      <td>2021</td>\n",
       "      <td>9</td>\n",
       "      <td>2021-09-01</td>\n",
       "    </tr>\n",
       "    <tr>\n",
       "      <th>1</th>\n",
       "      <td>0</td>\n",
       "      <td>0</td>\n",
       "      <td>1</td>\n",
       "      <td>96.590</td>\n",
       "      <td>1</td>\n",
       "      <td>2021-09-01</td>\n",
       "      <td>0</td>\n",
       "      <td>1</td>\n",
       "      <td>0</td>\n",
       "      <td>2021-09-01</td>\n",
       "      <td>2021</td>\n",
       "      <td>9</td>\n",
       "      <td>2021-09-01</td>\n",
       "    </tr>\n",
       "    <tr>\n",
       "      <th>2</th>\n",
       "      <td>0</td>\n",
       "      <td>0</td>\n",
       "      <td>2</td>\n",
       "      <td>0.000</td>\n",
       "      <td>0</td>\n",
       "      <td>2021-09-01</td>\n",
       "      <td>0</td>\n",
       "      <td>2</td>\n",
       "      <td>1</td>\n",
       "      <td>2021-09-01</td>\n",
       "      <td>2021</td>\n",
       "      <td>9</td>\n",
       "      <td>2021-09-01</td>\n",
       "    </tr>\n",
       "    <tr>\n",
       "      <th>3</th>\n",
       "      <td>0</td>\n",
       "      <td>0</td>\n",
       "      <td>2</td>\n",
       "      <td>17.314</td>\n",
       "      <td>1</td>\n",
       "      <td>2021-09-01</td>\n",
       "      <td>0</td>\n",
       "      <td>3</td>\n",
       "      <td>1</td>\n",
       "      <td>2021-09-01</td>\n",
       "      <td>2021</td>\n",
       "      <td>9</td>\n",
       "      <td>2021-09-01</td>\n",
       "    </tr>\n",
       "    <tr>\n",
       "      <th>4</th>\n",
       "      <td>0</td>\n",
       "      <td>0</td>\n",
       "      <td>3</td>\n",
       "      <td>2.904</td>\n",
       "      <td>0</td>\n",
       "      <td>2021-09-01</td>\n",
       "      <td>0</td>\n",
       "      <td>4</td>\n",
       "      <td>2</td>\n",
       "      <td>2021-09-01</td>\n",
       "      <td>2021</td>\n",
       "      <td>9</td>\n",
       "      <td>2021-09-01</td>\n",
       "    </tr>\n",
       "  </tbody>\n",
       "</table>\n",
       "</div>"
      ],
      "text/plain": [
       "   county  is_business  product_type  target  is_consumption   datetime  \\\n",
       "0       0            0             1   0.713               0 2021-09-01   \n",
       "1       0            0             1  96.590               1 2021-09-01   \n",
       "2       0            0             2   0.000               0 2021-09-01   \n",
       "3       0            0             2  17.314               1 2021-09-01   \n",
       "4       0            0             3   2.904               0 2021-09-01   \n",
       "\n",
       "   data_block_id  row_id  prediction_unit_id datetime_panda  year  month  \\\n",
       "0              0       0                   0     2021-09-01  2021      9   \n",
       "1              0       1                   0     2021-09-01  2021      9   \n",
       "2              0       2                   1     2021-09-01  2021      9   \n",
       "3              0       3                   1     2021-09-01  2021      9   \n",
       "4              0       4                   2     2021-09-01  2021      9   \n",
       "\n",
       "         date  \n",
       "0  2021-09-01  \n",
       "1  2021-09-01  \n",
       "2  2021-09-01  \n",
       "3  2021-09-01  \n",
       "4  2021-09-01  "
      ]
     },
     "execution_count": 13,
     "metadata": {},
     "output_type": "execute_result"
    }
   ],
   "source": [
    "df.head()"
   ]
  },
  {
   "cell_type": "code",
   "execution_count": 14,
   "id": "5b940e54",
   "metadata": {
    "execution": {
     "iopub.execute_input": "2023-11-25T04:19:44.276256Z",
     "iopub.status.busy": "2023-11-25T04:19:44.275855Z",
     "iopub.status.idle": "2023-11-25T04:20:30.741367Z",
     "shell.execute_reply": "2023-11-25T04:20:30.740200Z"
    },
    "papermill": {
     "duration": 46.476063,
     "end_time": "2023-11-25T04:20:30.743554",
     "exception": false,
     "start_time": "2023-11-25T04:19:44.267491",
     "status": "completed"
    },
    "tags": []
   },
   "outputs": [
    {
     "data": {
      "text/plain": [
       "<Axes: xlabel='year', ylabel='target'>"
      ]
     },
     "execution_count": 14,
     "metadata": {},
     "output_type": "execute_result"
    },
    {
     "data": {
      "image/png": "[encoded data removed]",
      "text/plain": [
       "<Figure size 640x480 with 1 Axes>"
      ]
     },
     "metadata": {},
     "output_type": "display_data"
    }
   ],
   "source": [
    "sns.lineplot(x='year',y='target',data=df)"
   ]
  },
  {
   "cell_type": "code",
   "execution_count": 15,
   "id": "1b747ba9",
   "metadata": {
    "execution": {
     "iopub.execute_input": "2023-11-25T04:20:30.760397Z",
     "iopub.status.busy": "2023-11-25T04:20:30.759986Z",
     "iopub.status.idle": "2023-11-25T04:20:57.846425Z",
     "shell.execute_reply": "2023-11-25T04:20:57.845321Z"
    },
    "papermill": {
     "duration": 27.097739,
     "end_time": "2023-11-25T04:20:57.848934",
     "exception": false,
     "start_time": "2023-11-25T04:20:30.751195",
     "status": "completed"
    },
    "tags": []
   },
   "outputs": [
    {
     "data": {
      "text/plain": [
       "<Axes: xlabel='month', ylabel='target'>"
      ]
     },
     "execution_count": 15,
     "metadata": {},
     "output_type": "execute_result"
    },
    {
     "data": {
      "image/png": "[encoded data removed]",
      "text/plain": [
       "<Figure size 640x480 with 1 Axes>"
      ]
     },
     "metadata": {},
     "output_type": "display_data"
    }
   ],
   "source": [
    "sns.lineplot(x='month',y='target',data=df)"
   ]
  },
  {
   "cell_type": "code",
   "execution_count": 16,
   "id": "74b90392",
   "metadata": {
    "execution": {
     "iopub.execute_input": "2023-11-25T04:20:57.869846Z",
     "iopub.status.busy": "2023-11-25T04:20:57.868945Z",
     "iopub.status.idle": "2023-11-25T04:21:24.581668Z",
     "shell.execute_reply": "2023-11-25T04:21:24.580532Z"
    },
    "papermill": {
     "duration": 26.726,
     "end_time": "2023-11-25T04:21:24.584304",
     "exception": false,
     "start_time": "2023-11-25T04:20:57.858304",
     "status": "completed"
    },
    "tags": []
   },
   "outputs": [
    {
     "data": {
      "text/plain": [
       "<Axes: xlabel='month', ylabel='target'>"
      ]
     },
     "execution_count": 16,
     "metadata": {},
     "output_type": "execute_result"
    },
    {
     "data": {
      "image/png": "[encoded data removed]",
      "text/plain": [
       "<Figure size 640x480 with 1 Axes>"
      ]
     },
     "metadata": {},
     "output_type": "display_data"
    }
   ],
   "source": [
    "sns.lineplot(x='month',y='target',data=df,hue='is_consumption')"
   ]
  },
  {
   "cell_type": "code",
   "execution_count": 17,
   "id": "9dbd45e1",
   "metadata": {
    "execution": {
     "iopub.execute_input": "2023-11-25T04:21:24.605140Z",
     "iopub.status.busy": "2023-11-25T04:21:24.604172Z",
     "iopub.status.idle": "2023-11-25T04:22:03.970528Z",
     "shell.execute_reply": "2023-11-25T04:22:03.969445Z"
    },
    "papermill": {
     "duration": 39.379234,
     "end_time": "2023-11-25T04:22:03.972812",
     "exception": false,
     "start_time": "2023-11-25T04:21:24.593578",
     "status": "completed"
    },
    "tags": []
   },
   "outputs": [
    {
     "data": {
      "text/plain": [
       "<Axes: xlabel='year', ylabel='target'>"
      ]
     },
     "execution_count": 17,
     "metadata": {},
     "output_type": "execute_result"
    },
    {
     "data": {
      "image/png": "[encoded data removed]",
      "text/plain": [
       "<Figure size 640x480 with 1 Axes>"
      ]
     },
     "metadata": {},
     "output_type": "display_data"
    }
   ],
   "source": [
    "sns.lineplot(x='year',y='target',data=df,hue='is_consumption')"
   ]
  },
  {
   "cell_type": "code",
   "execution_count": 18,
   "id": "7f3f88b1",
   "metadata": {
    "execution": {
     "iopub.execute_input": "2023-11-25T04:22:03.994011Z",
     "iopub.status.busy": "2023-11-25T04:22:03.993610Z",
     "iopub.status.idle": "2023-11-25T04:22:04.018049Z",
     "shell.execute_reply": "2023-11-25T04:22:04.016637Z"
    },
    "papermill": {
     "duration": 0.038342,
     "end_time": "2023-11-25T04:22:04.020951",
     "exception": false,
     "start_time": "2023-11-25T04:22:03.982609",
     "status": "completed"
    },
    "tags": []
   },
   "outputs": [
    {
     "data": {
      "text/html": [
       "<div>\n",
       "<style scoped>\n",
       "    .dataframe tbody tr th:only-of-type {\n",
       "        vertical-align: middle;\n",
       "    }\n",
       "\n",
       "    .dataframe tbody tr th {\n",
       "        vertical-align: top;\n",
       "    }\n",
       "\n",
       "    .dataframe thead th {\n",
       "        text-align: right;\n",
       "    }\n",
       "</style>\n",
       "<table border=\"1\" class=\"dataframe\">\n",
       "  <thead>\n",
       "    <tr style=\"text-align: right;\">\n",
       "      <th></th>\n",
       "      <th>datetime</th>\n",
       "      <th>temperature</th>\n",
       "      <th>dewpoint</th>\n",
       "      <th>rain</th>\n",
       "      <th>snowfall</th>\n",
       "      <th>surface_pressure</th>\n",
       "      <th>cloudcover_total</th>\n",
       "      <th>cloudcover_low</th>\n",
       "      <th>cloudcover_mid</th>\n",
       "      <th>cloudcover_high</th>\n",
       "      <th>windspeed_10m</th>\n",
       "      <th>winddirection_10m</th>\n",
       "      <th>shortwave_radiation</th>\n",
       "      <th>direct_solar_radiation</th>\n",
       "      <th>diffuse_radiation</th>\n",
       "      <th>latitude</th>\n",
       "      <th>longitude</th>\n",
       "      <th>data_block_id</th>\n",
       "    </tr>\n",
       "  </thead>\n",
       "  <tbody>\n",
       "    <tr>\n",
       "      <th>0</th>\n",
       "      <td>2021-09-01 00:00:00</td>\n",
       "      <td>14.4</td>\n",
       "      <td>12.0</td>\n",
       "      <td>0.0</td>\n",
       "      <td>0.0</td>\n",
       "      <td>1015.8</td>\n",
       "      <td>4</td>\n",
       "      <td>4</td>\n",
       "      <td>0</td>\n",
       "      <td>0</td>\n",
       "      <td>6.694444</td>\n",
       "      <td>3</td>\n",
       "      <td>0.0</td>\n",
       "      <td>0.0</td>\n",
       "      <td>0.0</td>\n",
       "      <td>57.6</td>\n",
       "      <td>21.7</td>\n",
       "      <td>1</td>\n",
       "    </tr>\n",
       "    <tr>\n",
       "      <th>1</th>\n",
       "      <td>2021-09-01 00:00:00</td>\n",
       "      <td>14.0</td>\n",
       "      <td>12.0</td>\n",
       "      <td>0.0</td>\n",
       "      <td>0.0</td>\n",
       "      <td>1010.6</td>\n",
       "      <td>7</td>\n",
       "      <td>8</td>\n",
       "      <td>0</td>\n",
       "      <td>0</td>\n",
       "      <td>4.944444</td>\n",
       "      <td>353</td>\n",
       "      <td>0.0</td>\n",
       "      <td>0.0</td>\n",
       "      <td>0.0</td>\n",
       "      <td>57.6</td>\n",
       "      <td>22.2</td>\n",
       "      <td>1</td>\n",
       "    </tr>\n",
       "    <tr>\n",
       "      <th>2</th>\n",
       "      <td>2021-09-01 00:00:00</td>\n",
       "      <td>14.4</td>\n",
       "      <td>12.8</td>\n",
       "      <td>0.0</td>\n",
       "      <td>0.0</td>\n",
       "      <td>1014.9</td>\n",
       "      <td>6</td>\n",
       "      <td>7</td>\n",
       "      <td>0</td>\n",
       "      <td>0</td>\n",
       "      <td>5.833333</td>\n",
       "      <td>348</td>\n",
       "      <td>0.0</td>\n",
       "      <td>0.0</td>\n",
       "      <td>0.0</td>\n",
       "      <td>57.6</td>\n",
       "      <td>22.7</td>\n",
       "      <td>1</td>\n",
       "    </tr>\n",
       "    <tr>\n",
       "      <th>3</th>\n",
       "      <td>2021-09-01 00:00:00</td>\n",
       "      <td>15.4</td>\n",
       "      <td>13.0</td>\n",
       "      <td>0.0</td>\n",
       "      <td>0.0</td>\n",
       "      <td>1014.4</td>\n",
       "      <td>4</td>\n",
       "      <td>2</td>\n",
       "      <td>4</td>\n",
       "      <td>0</td>\n",
       "      <td>7.111111</td>\n",
       "      <td>349</td>\n",
       "      <td>0.0</td>\n",
       "      <td>0.0</td>\n",
       "      <td>0.0</td>\n",
       "      <td>57.6</td>\n",
       "      <td>23.2</td>\n",
       "      <td>1</td>\n",
       "    </tr>\n",
       "    <tr>\n",
       "      <th>4</th>\n",
       "      <td>2021-09-01 00:00:00</td>\n",
       "      <td>15.9</td>\n",
       "      <td>12.6</td>\n",
       "      <td>0.0</td>\n",
       "      <td>0.0</td>\n",
       "      <td>1013.8</td>\n",
       "      <td>12</td>\n",
       "      <td>7</td>\n",
       "      <td>0</td>\n",
       "      <td>20</td>\n",
       "      <td>8.388889</td>\n",
       "      <td>360</td>\n",
       "      <td>0.0</td>\n",
       "      <td>0.0</td>\n",
       "      <td>0.0</td>\n",
       "      <td>57.6</td>\n",
       "      <td>23.7</td>\n",
       "      <td>1</td>\n",
       "    </tr>\n",
       "  </tbody>\n",
       "</table>\n",
       "</div>"
      ],
      "text/plain": [
       "              datetime  temperature  dewpoint  rain  snowfall  \\\n",
       "0  2021-09-01 00:00:00         14.4      12.0   0.0       0.0   \n",
       "1  2021-09-01 00:00:00         14.0      12.0   0.0       0.0   \n",
       "2  2021-09-01 00:00:00         14.4      12.8   0.0       0.0   \n",
       "3  2021-09-01 00:00:00         15.4      13.0   0.0       0.0   \n",
       "4  2021-09-01 00:00:00         15.9      12.6   0.0       0.0   \n",
       "\n",
       "   surface_pressure  cloudcover_total  cloudcover_low  cloudcover_mid  \\\n",
       "0            1015.8                 4               4               0   \n",
       "1            1010.6                 7               8               0   \n",
       "2            1014.9                 6               7               0   \n",
       "3            1014.4                 4               2               4   \n",
       "4            1013.8                12               7               0   \n",
       "\n",
       "   cloudcover_high  windspeed_10m  winddirection_10m  shortwave_radiation  \\\n",
       "0                0       6.694444                  3                  0.0   \n",
       "1                0       4.944444                353                  0.0   \n",
       "2                0       5.833333                348                  0.0   \n",
       "3                0       7.111111                349                  0.0   \n",
       "4               20       8.388889                360                  0.0   \n",
       "\n",
       "   direct_solar_radiation  diffuse_radiation  latitude  longitude  \\\n",
       "0                     0.0                0.0      57.6       21.7   \n",
       "1                     0.0                0.0      57.6       22.2   \n",
       "2                     0.0                0.0      57.6       22.7   \n",
       "3                     0.0                0.0      57.6       23.2   \n",
       "4                     0.0                0.0      57.6       23.7   \n",
       "\n",
       "   data_block_id  \n",
       "0              1  \n",
       "1              1  \n",
       "2              1  \n",
       "3              1  \n",
       "4              1  "
      ]
     },
     "execution_count": 18,
     "metadata": {},
     "output_type": "execute_result"
    }
   ],
   "source": [
    "hist_weath.head()"
   ]
  },
  {
   "cell_type": "code",
   "execution_count": null,
   "id": "04942f24",
   "metadata": {
    "papermill": {
     "duration": 0.010168,
     "end_time": "2023-11-25T04:22:04.041477",
     "exception": false,
     "start_time": "2023-11-25T04:22:04.031309",
     "status": "completed"
    },
    "tags": []
   },
   "outputs": [],
   "source": []
  }
 ],
 "metadata": {
  "kaggle": {
   "accelerator": "none",
   "dataSources": [
    {
     "databundleVersionId": 7056256,
     "sourceId": 57236,
     "sourceType": "competition"
    }
   ],
   "dockerImageVersionId": 30587,
   "isGpuEnabled": false,
   "isInternetEnabled": true,
   "language": "python",
   "sourceType": "notebook"
  },
  "kernelspec": {
   "display_name": "Python 3",
   "language": "python",
   "name": "python3"
  },
  "language_info": {
   "codemirror_mode": {
    "name": "ipython",
    "version": 3
   },
   "file_extension": ".py",
   "mimetype": "text/x-python",
   "name": "python",
   "nbconvert_exporter": "python",
   "pygments_lexer": "ipython3",
   "version": "3.10.12"
  },
  "papermill": {
   "default_parameters": {},
   "duration": 175.191929,
   "end_time": "2023-11-25T04:22:04.772316",
   "environment_variables": {},
   "exception": null,
   "input_path": "__notebook__.ipynb",
   "output_path": "__notebook__.ipynb",
   "parameters": {},
   "start_time": "2023-11-25T04:19:09.580387",
   "version": "2.4.0"
  }
 },
 "nbformat": 4,
 "nbformat_minor": 5
}
